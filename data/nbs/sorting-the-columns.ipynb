{
 "cells": [
  {
   "cell_type": "code",
   "execution_count": 53,
   "metadata": {
    "collapsed": true
   },
   "outputs": [],
   "source": [
    "import pandas as pd"
   ]
  },
  {
   "cell_type": "markdown",
   "metadata": {},
   "source": [
    "Sorting columns"
   ]
  },
  {
   "cell_type": "code",
   "execution_count": null,
   "metadata": {
    "collapsed": true
   },
   "outputs": [],
   "source": [
    "ID_cols = ['INTERNAL_ID', 'TRUST', 'DUMMY_TRUST', 'EPISODE_ID', \n",
    "           'SPELL_ID', 'PATIENT_ID', 'pasid', 'Age', 'SEX', 'site1', \n",
    "           'practice_code', 'south_north', 'consultant', 'SPECIALTY', \n",
    "           'Bench_Period', 'Period', 'EPISODE_START', 'EPISODE_END', \n",
    "           'ADMDATE', 'DISCDATE', 'procedure_date_dt', 'DayofMainProc', \n",
    "           'LOS', 'SPELL_LOS', 'CC_LOS', 'TH_TIME', 'ENDO_TIME', 'PCT']\n",
    "\n",
    "Diag_cols = ['COND_FLG', 'POD', 'HRG_Chapter', 'HRG_Subchapter', 'HRG', 'ICD10', 'OPCS4', 'DOM_PROC']\n",
    "\n",
    "Cost_cols = [col for col in cols[df.columns.get_loc('COST') : df.columns.get_loc('INCOME') + 1] if col not in ID_cols or Diag_cols] + ['SECC', 'DRUG']\n",
    "\n",
    "Proc_cols = [f'OPCS_{i}' for i in range(1, 14)] + [f'ICD_{i}' for i in range(1, 14)]\n",
    "\n",
    "nearly_sorted = ID_cols + Diag_cols + Cost_cols + Proc_cols\n",
    "\n",
    "sorted_cols = nearly_sorted + [col for col in cols if col not in nearly_sorted]\n",
    "\n"
   ]
  },
  {
   "cell_type": "code",
   "execution_count": 54,
   "metadata": {},
   "outputs": [
    {
     "data": {
      "text/plain": [
       "47"
      ]
     },
     "execution_count": 54,
     "metadata": {},
     "output_type": "execute_result"
    }
   ],
   "source": [
    "pd.read_csv('/Volumes/thesis-data/rsc/HRG_Chapters.csv')['Sub- Chapter'].nunique()"
   ]
  },
  {
   "cell_type": "code",
   "execution_count": null,
   "metadata": {
    "collapsed": true
   },
   "outputs": [],
   "source": []
  }
 ],
 "metadata": {
  "kernelspec": {
   "display_name": "Python 3",
   "language": "python",
   "name": "python3"
  },
  "language_info": {
   "codemirror_mode": {
    "name": "ipython",
    "version": 3
   },
   "file_extension": ".py",
   "mimetype": "text/x-python",
   "name": "python",
   "nbconvert_exporter": "python",
   "pygments_lexer": "ipython3",
   "version": "3.6.3"
  }
 },
 "nbformat": 4,
 "nbformat_minor": 2
}
