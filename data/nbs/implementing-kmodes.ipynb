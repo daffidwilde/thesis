{
 "cells": [
  {
   "cell_type": "code",
   "execution_count": 18,
   "metadata": {
    "collapsed": true
   },
   "outputs": [],
   "source": [
    "import matplotlib.pyplot as plt\n",
    "import pandas as pd\n",
    "import numpy as np\n",
    "\n",
    "from kmodes.kmodes import KModes\n",
    "%matplotlib inline"
   ]
  },
  {
   "cell_type": "code",
   "execution_count": 4,
   "metadata": {
    "collapsed": true
   },
   "outputs": [],
   "source": [
    "df = pd.read_csv('/Volumes/thesis-data/main.csv', nrows=10)"
   ]
  },
  {
   "cell_type": "code",
   "execution_count": 15,
   "metadata": {},
   "outputs": [
    {
     "data": {
      "text/html": [
       "<div>\n",
       "<style>\n",
       "    .dataframe thead tr:only-child th {\n",
       "        text-align: right;\n",
       "    }\n",
       "\n",
       "    .dataframe thead th {\n",
       "        text-align: left;\n",
       "    }\n",
       "\n",
       "    .dataframe tbody tr th {\n",
       "        vertical-align: top;\n",
       "    }\n",
       "</style>\n",
       "<table border=\"1\" class=\"dataframe\">\n",
       "  <thead>\n",
       "    <tr style=\"text-align: right;\">\n",
       "      <th></th>\n",
       "      <th>consultant</th>\n",
       "      <th>end_ward</th>\n",
       "      <th>pasid</th>\n",
       "      <th>practice_code</th>\n",
       "      <th>procedure_code</th>\n",
       "      <th>procedure_date_dt</th>\n",
       "      <th>site1</th>\n",
       "      <th>south_north</th>\n",
       "      <th>start_ward</th>\n",
       "    </tr>\n",
       "  </thead>\n",
       "  <tbody>\n",
       "    <tr>\n",
       "      <th>0</th>\n",
       "      <td>BOLJM</td>\n",
       "      <td>80644</td>\n",
       "      <td>M0109110</td>\n",
       "      <td>W95086</td>\n",
       "      <td>U051</td>\n",
       "      <td>29/09/2013</td>\n",
       "      <td>PCH</td>\n",
       "      <td>North</td>\n",
       "      <td>80644</td>\n",
       "    </tr>\n",
       "    <tr>\n",
       "      <th>1</th>\n",
       "      <td>DEWRI</td>\n",
       "      <td>63314</td>\n",
       "      <td>M2517965</td>\n",
       "      <td>W95006</td>\n",
       "      <td>999</td>\n",
       "      <td>NaN</td>\n",
       "      <td>RGH</td>\n",
       "      <td>South</td>\n",
       "      <td>63314</td>\n",
       "    </tr>\n",
       "    <tr>\n",
       "      <th>2</th>\n",
       "      <td>PEMJM</td>\n",
       "      <td>63309</td>\n",
       "      <td>M1032814</td>\n",
       "      <td>W95025</td>\n",
       "      <td>T439</td>\n",
       "      <td>05/02/2014</td>\n",
       "      <td>RGH</td>\n",
       "      <td>South</td>\n",
       "      <td>63309</td>\n",
       "    </tr>\n",
       "    <tr>\n",
       "      <th>3</th>\n",
       "      <td>EVAPM</td>\n",
       "      <td>63304</td>\n",
       "      <td>M2094448</td>\n",
       "      <td>W95058</td>\n",
       "      <td>U051</td>\n",
       "      <td>28/10/2013</td>\n",
       "      <td>RGH</td>\n",
       "      <td>South</td>\n",
       "      <td>63304</td>\n",
       "    </tr>\n",
       "    <tr>\n",
       "      <th>4</th>\n",
       "      <td>ELHAS</td>\n",
       "      <td>63317</td>\n",
       "      <td>M2198081</td>\n",
       "      <td>W95027</td>\n",
       "      <td>999</td>\n",
       "      <td>NaN</td>\n",
       "      <td>RGH</td>\n",
       "      <td>South</td>\n",
       "      <td>63317</td>\n",
       "    </tr>\n",
       "    <tr>\n",
       "      <th>5</th>\n",
       "      <td>ELHAS</td>\n",
       "      <td>63318</td>\n",
       "      <td>M2603928</td>\n",
       "      <td>W95062</td>\n",
       "      <td>999</td>\n",
       "      <td>NaN</td>\n",
       "      <td>RGH</td>\n",
       "      <td>South</td>\n",
       "      <td>63318</td>\n",
       "    </tr>\n",
       "    <tr>\n",
       "      <th>6</th>\n",
       "      <td>SINAB</td>\n",
       "      <td>80617</td>\n",
       "      <td>M0024454</td>\n",
       "      <td>W95016</td>\n",
       "      <td>M459</td>\n",
       "      <td>24/10/2013</td>\n",
       "      <td>PCH</td>\n",
       "      <td>North</td>\n",
       "      <td>80617</td>\n",
       "    </tr>\n",
       "    <tr>\n",
       "      <th>7</th>\n",
       "      <td>OKUOH</td>\n",
       "      <td>80631</td>\n",
       "      <td>M0312035</td>\n",
       "      <td>W95005</td>\n",
       "      <td>999</td>\n",
       "      <td>NaN</td>\n",
       "      <td>PCH</td>\n",
       "      <td>North</td>\n",
       "      <td>80631</td>\n",
       "    </tr>\n",
       "    <tr>\n",
       "      <th>8</th>\n",
       "      <td>CONKP</td>\n",
       "      <td>80644</td>\n",
       "      <td>M0005885</td>\n",
       "      <td>W95016</td>\n",
       "      <td>999</td>\n",
       "      <td>NaN</td>\n",
       "      <td>PCH</td>\n",
       "      <td>North</td>\n",
       "      <td>80644</td>\n",
       "    </tr>\n",
       "    <tr>\n",
       "      <th>9</th>\n",
       "      <td>WOOA</td>\n",
       "      <td>63301</td>\n",
       "      <td>M2067703</td>\n",
       "      <td>W95071</td>\n",
       "      <td>999</td>\n",
       "      <td>NaN</td>\n",
       "      <td>RGH</td>\n",
       "      <td>South</td>\n",
       "      <td>63301</td>\n",
       "    </tr>\n",
       "  </tbody>\n",
       "</table>\n",
       "</div>"
      ],
      "text/plain": [
       "  consultant  end_ward     pasid practice_code procedure_code  \\\n",
       "0      BOLJM     80644  M0109110        W95086           U051   \n",
       "1      DEWRI     63314  M2517965        W95006            999   \n",
       "2      PEMJM     63309  M1032814        W95025           T439   \n",
       "3      EVAPM     63304  M2094448        W95058           U051   \n",
       "4      ELHAS     63317  M2198081        W95027            999   \n",
       "5      ELHAS     63318  M2603928        W95062            999   \n",
       "6      SINAB     80617  M0024454        W95016           M459   \n",
       "7      OKUOH     80631  M0312035        W95005            999   \n",
       "8      CONKP     80644  M0005885        W95016            999   \n",
       "9       WOOA     63301  M2067703        W95071            999   \n",
       "\n",
       "  procedure_date_dt site1 south_north  start_ward  \n",
       "0        29/09/2013   PCH       North       80644  \n",
       "1               NaN   RGH       South       63314  \n",
       "2        05/02/2014   RGH       South       63309  \n",
       "3        28/10/2013   RGH       South       63304  \n",
       "4               NaN   RGH       South       63317  \n",
       "5               NaN   RGH       South       63318  \n",
       "6        24/10/2013   PCH       North       80617  \n",
       "7               NaN   PCH       North       80631  \n",
       "8               NaN   PCH       North       80644  \n",
       "9               NaN   RGH       South       63301  "
      ]
     },
     "execution_count": 15,
     "metadata": {},
     "output_type": "execute_result"
    }
   ],
   "source": [
    "df.iloc[:, [250, 251, 252, 253, 254, 255, 256, 257, 258]]"
   ]
  },
  {
   "cell_type": "code",
   "execution_count": 16,
   "metadata": {},
   "outputs": [
    {
     "name": "stdout",
     "output_type": "stream",
     "text": [
      "CPU times: user 3min 32s, sys: 16.9 s, total: 3min 49s\n",
      "Wall time: 3min 52s\n"
     ]
    }
   ],
   "source": [
    "%%time\n",
    "df = pd.read_csv('/Volumes/thesis-data/main.csv',\n",
    "                 parse_dates=['Bench_Period', 'ADMDATE', \n",
    "                              'DISCDATE', 'EPISODE_ST', 'EPISODE_END', \n",
    "                              'procedure_date_dt'],\n",
    "                 dtype={'ADM_MET': 'object', 'DIS_MET': 'object', \n",
    "                        'MAIN_SPEC': 'object', 'NON_NHS_FLAG': 'object', \n",
    "                        'OPCS_12': 'object', 'OPCS_13': 'object', \n",
    "                        'DayofMainProc': 'object', 'SEX': 'object', \n",
    "                        'consultant': 'object', 'end_ward': 'object', \n",
    "                        'pasid': 'object', 'practice_code': 'object', \n",
    "                        'procedure_code': 'object', 'procedure_date_dt': 'object', \n",
    "                        'site1': 'object', 'south_north': 'object', 'start_ward': 'object'}\n",
    "                )\n",
    "\n",
    "# Categorical attributes only, and fill NaN with an empty string.\n",
    "cat_df = df[[col for col in df.columns \\\n",
    "             if df[col].dtype == np.dtype('object') \\\n",
    "             and col not in ['PATIENT_ID', 'EPISODE_ID',\n",
    "                             'pasid', 'SPELL_ID']]\n",
    "           ].fillna('')\n",
    "\n",
    "sample_df = cat_df.sample(n=100, random_state=0)"
   ]
  },
  {
   "cell_type": "code",
   "execution_count": 44,
   "metadata": {},
   "outputs": [
    {
     "data": {
      "text/plain": [
       "68"
      ]
     },
     "execution_count": 44,
     "metadata": {},
     "output_type": "execute_result"
    }
   ],
   "source": [
    "len(cat_df.columns)"
   ]
  },
  {
   "cell_type": "code",
   "execution_count": 42,
   "metadata": {},
   "outputs": [
    {
     "name": "stdout",
     "output_type": "stream",
     "text": [
      "CPU times: user 36min 9s, sys: 8.08 s, total: 36min 18s\n",
      "Wall time: 36min 17s\n"
     ]
    }
   ],
   "source": [
    "%%time\n",
    "huang_costs = []\n",
    "for i in range(80, 100):\n",
    "    km = KModes(n_clusters=i, init='huang', n_init=50)\n",
    "    clusters = km.fit_predict(sample_df)\n",
    "    huang_costs.append(km.cost_)\n",
    "    \n",
    "cao_costs = []\n",
    "for i in range(80, 100):\n",
    "    km = KModes(n_clusters=i, init='cao', n_init=50)\n",
    "    clusters = km.fit_predict(sample_df)\n",
    "    cao_costs.append(km.cost_)\n",
    "\n",
    "random_costs = []\n",
    "for i in range(80, 100):\n",
    "    km = KModes(n_clusters=i, init='random', n_init=50)\n",
    "    clusters = km.fit_predict(sample_df)\n",
    "    random_costs.append(km.cost_)"
   ]
  },
  {
   "cell_type": "code",
   "execution_count": 43,
   "metadata": {},
   "outputs": [
    {
     "data": {
      "image/png": "[encoded data removed]",
      "text/plain": [
       "<matplotlib.figure.Figure at 0x155ac612b0>"
      ]
     },
     "metadata": {},
     "output_type": "display_data"
    }
   ],
   "source": [
    "plt.figure()\n",
    "plt.plot(range(80, 100), huang_costs, color='indianred', label='Huang')\n",
    "plt.plot(range(80, 100), cao_costs, color='royalblue', label='Cao')\n",
    "plt.plot(range(80, 100), random_costs, color='seagreen', label='Random')\n",
    "plt.xlabel('Number of clusters')\n",
    "plt.ylabel('Cost function')\n",
    "plt.legend(loc='upper right');"
   ]
  },
  {
   "cell_type": "code",
   "execution_count": null,
   "metadata": {
    "collapsed": true
   },
   "outputs": [],
   "source": []
  }
 ],
 "metadata": {
  "kernelspec": {
   "display_name": "Python 3",
   "language": "python",
   "name": "python3"
  },
  "language_info": {
   "codemirror_mode": {
    "name": "ipython",
    "version": 3
   },
   "file_extension": ".py",
   "mimetype": "text/x-python",
   "name": "python",
   "nbconvert_exporter": "python",
   "pygments_lexer": "ipython3",
   "version": "3.6.3"
  }
 },
 "nbformat": 4,
 "nbformat_minor": 2
}
