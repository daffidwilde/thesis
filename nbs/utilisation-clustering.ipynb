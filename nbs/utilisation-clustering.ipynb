{
 "cells": [
  {
   "cell_type": "code",
   "execution_count": null,
   "metadata": {},
   "outputs": [],
   "source": [
    "import json\n",
    "import dask\n",
    "import tqdm\n",
    "import numpy as np\n",
    "import pandas as pd\n",
    "import matplotlib.pyplot as plt\n",
    "import matplotlib.cm as cm\n",
    "\n",
    "from dask.diagnostics import ProgressBar, ResourceProfiler\n",
    "from multiprocessing.pool import Pool\n",
    "from sklearn.cluster import KMeans\n",
    "from sklearn.metrics.cluster import silhouette_samples, silhouette_score\n",
    "\n",
    "%matplotlib inline"
   ]
  },
  {
   "cell_type": "code",
   "execution_count": null,
   "metadata": {},
   "outputs": [],
   "source": [
    "with open('/Volumes/thesis-data/dtype_dict.json', 'r') as dtypes:\n",
    "    dtypes = json.load(dtypes)\n",
    "\n",
    "main = pd.read_csv(\n",
    "    '/Volumes/thesis-data/cwmtaf.csv',\n",
    "    dtype=dtypes,\n",
    "    parse_dates=['ADMDATE', 'DISCDATE', 'PERIOD']\n",
    ")"
   ]
  },
  {
   "cell_type": "code",
   "execution_count": null,
   "metadata": {},
   "outputs": [],
   "source": [
    "main = main.sample(frac=.1, replace=False)"
   ]
  },
  {
   "cell_type": "code",
   "execution_count": null,
   "metadata": {},
   "outputs": [],
   "source": [
    "groupby = main.groupby('SPELL_ID')['ADM_MET'].nunique()\n",
    "spells = groupby[groupby.values != 1].index"
   ]
  },
  {
   "cell_type": "code",
   "execution_count": null,
   "metadata": {},
   "outputs": [],
   "source": [
    "multiple_adm_met = main[main['SPELL_ID'].isin(spells)]\n",
    "\n",
    "multiple_adm_met.set_index(['PATIENT_ID', 'SPELL_ID', 'EPISODE_ID'])\\\n",
    "                .sort_values(['SPELL_ID', 'EPISODE_ID'])[\n",
    "                    [\n",
    "                        'PERIOD', 'ADMDATE', 'DISCDATE', 'ADM_MET'\n",
    "                    ]\n",
    "                ]"
   ]
  },
  {
   "cell_type": "code",
   "execution_count": null,
   "metadata": {},
   "outputs": [],
   "source": [
    "main = main[-main['SPELL_ID'].isin(spells)]"
   ]
  },
  {
   "cell_type": "code",
   "execution_count": null,
   "metadata": {},
   "outputs": [],
   "source": [
    "main = main[main['ADM_MET'] != '99']"
   ]
  },
  {
   "cell_type": "code",
   "execution_count": null,
   "metadata": {},
   "outputs": [],
   "source": [
    "elective_codes = ['11', '12', '13']\n",
    "emergency_codes = ['21', '22', '23', '24', '28']\n",
    "non_elective_codes = emergency_codes + ['31', '32', '81', '82', '83']"
   ]
  },
  {
   "cell_type": "code",
   "execution_count": null,
   "metadata": {
    "scrolled": false
   },
   "outputs": [],
   "source": [
    "main['Elective'] = main['ADM_MET'].isin(elective_codes)\n",
    "main['Emergency'] = main['ADM_MET'].isin(emergency_codes)\n",
    "main['Non-elective'] = main['ADM_MET'].isin(non_elective_codes)"
   ]
  },
  {
   "cell_type": "code",
   "execution_count": null,
   "metadata": {},
   "outputs": [],
   "source": [
    "elective_daycases = main[(main['Elective']) & (main['DC'] == '1')]\n",
    "\n",
    "elective_daycases_peryear = elective_daycases.groupby('PATIENT_ID')['SPELL_ID'].nunique() \\\n",
    "                            / elective_daycases.groupby('PATIENT_ID')['BENCH_PERIOD'].nunique()\n",
    "\n",
    "elective_ordinary = main[(main['Elective']) & (main['DC'] == '0')]\n",
    "\n",
    "elective_ordinary_peryear = elective_ordinary.groupby('PATIENT_ID')['SPELL_ID'].nunique() \\\n",
    "                            / elective_ordinary.groupby('PATIENT_ID')['BENCH_PERIOD'].nunique()\n",
    "\n",
    "non_elective_daycases = main[(main['Non-elective']) & (main['DC'] == '1')]\n",
    "\n",
    "non_elective_daycases_peryear = non_elective_daycases.groupby('PATIENT_ID')['SPELL_ID'].nunique() \\\n",
    "                                / non_elective_daycases.groupby('PATIENT_ID')['BENCH_PERIOD'].nunique()\n",
    "\n",
    "non_elective_ordinary = main[(main['Non-elective']) & (main['DC'] == '0')]\n",
    "\n",
    "non_elective_ordinary_peryear = non_elective_ordinary.groupby('PATIENT_ID')['SPELL_ID'].nunique() \\\n",
    "                                / non_elective_ordinary.groupby('PATIENT_ID')['BENCH_PERIOD'].nunique()"
   ]
  },
  {
   "cell_type": "code",
   "execution_count": null,
   "metadata": {},
   "outputs": [],
   "source": [
    "names=[\n",
    "    'Elective daycases per year',\n",
    "    'Elective ordinary admissions per year',\n",
    "    'Non-elective daycases per year',\n",
    "    'Non-elective ordinary admissions per year'\n",
    "]"
   ]
  },
  {
   "cell_type": "code",
   "execution_count": null,
   "metadata": {},
   "outputs": [],
   "source": [
    "utilisation = pd.concat(\n",
    "    [\n",
    "        elective_daycases_peryear,\n",
    "        elective_ordinary_peryear,\n",
    "        non_elective_daycases_peryear,\n",
    "        non_elective_ordinary_peryear\n",
    "    ],\n",
    "    axis=1,\n",
    "    sort=True\n",
    ")"
   ]
  },
  {
   "cell_type": "code",
   "execution_count": null,
   "metadata": {},
   "outputs": [],
   "source": [
    "utilisation = utilisation.rename({i: name for i, name in enumerate(names)}, axis=1).fillna(0)"
   ]
  },
  {
   "cell_type": "code",
   "execution_count": null,
   "metadata": {},
   "outputs": [],
   "source": [
    "tasks = []\n",
    "for k in tqdm.tqdm(range(2, 16)):\n",
    "    km = KMeans(n_clusters=k, n_jobs=4, random_state=0, n_init=50)\n",
    "\n",
    "    km.fit(utilisation)\n",
    "    centroids, labels = km.cluster_centers_, km.labels_\n",
    "\n",
    "    tasks.append(\n",
    "        [\n",
    "            dask.delayed(silhouette_score)(utilisation, labels, sample_size=1000),\n",
    "            dask.delayed(silhouette_samples)(utilisation, labels),\n",
    "            labels\n",
    "        ]\n",
    "    )"
   ]
  },
  {
   "cell_type": "code",
   "execution_count": null,
   "metadata": {},
   "outputs": [],
   "source": [
    "with ProgressBar(), ResourceProfiler() as rprof:\n",
    "    with dask.config.set(pool=Pool(2), scheduler='processes'):\n",
    "        results = dask.compute(*tasks)"
   ]
  },
  {
   "cell_type": "code",
   "execution_count": null,
   "metadata": {},
   "outputs": [],
   "source": [
    "for i, n_clusters in enumerate(range(2, 16)):\n",
    "\n",
    "    fig, ax = plt.subplots(1, figsize=(12, 8), dpi=300)\n",
    "\n",
    "    ax.set_xlim([-0.1, 1])\n",
    "    ax.set_ylim([0, len(utilisation) + (n_clusters + 1) * 10])\n",
    "\n",
    "    silhouette_avg, silhouette_values, cluster_labels = results[i]\n",
    "\n",
    "    y_lower = 10\n",
    "    for i in range(n_clusters):\n",
    "        # Aggregate the silhouette scores for samples belonging to\n",
    "        # cluster i, and sort them\n",
    "        ith_cluster_silhouette_values = \\\n",
    "            silhouette_values[cluster_labels == i]\n",
    "\n",
    "        ith_cluster_silhouette_values.sort()\n",
    "\n",
    "        size_cluster_i = ith_cluster_silhouette_values.shape[0]\n",
    "        y_upper = y_lower + size_cluster_i\n",
    "\n",
    "        color = cm.nipy_spectral(float(i) / n_clusters)\n",
    "        ax.fill_betweenx(np.arange(y_lower, y_upper),\n",
    "                          0, ith_cluster_silhouette_values,\n",
    "                          facecolor=color, edgecolor=color, alpha=0.7)\n",
    "\n",
    "        # Label the silhouette plots with their cluster numbers at the middle\n",
    "        ax.text(-0.05, y_lower + 0.5 * size_cluster_i, str(i))\n",
    "\n",
    "        # Compute the new y_lower for next plot\n",
    "        y_lower = y_upper + 10  # 10 for the 0 samples\n",
    "\n",
    "    ax.set_title(\"The silhouette plot for the various clusters.\")\n",
    "    ax.set_xlabel(\"The silhouette coefficient values\")\n",
    "    ax.set_ylabel(\"Cluster label\")\n",
    "\n",
    "    # The vertical line for average silhouette score of all the values\n",
    "    ax.axvline(x=silhouette_avg, color=\"red\", linestyle=\"--\")\n",
    "\n",
    "    ax.set_yticks([])  # Clear the yaxis labels / ticks\n",
    "    ax.set_xticks([-0.1, 0, 0.2, 0.4, 0.6, 0.8, 1])"
   ]
  },
  {
   "cell_type": "code",
   "execution_count": null,
   "metadata": {},
   "outputs": [],
   "source": []
  }
 ],
 "metadata": {
  "kernelspec": {
   "display_name": "Python 3",
   "language": "python",
   "name": "python3"
  },
  "language_info": {
   "codemirror_mode": {
    "name": "ipython",
    "version": 3
   },
   "file_extension": ".py",
   "mimetype": "text/x-python",
   "name": "python",
   "nbconvert_exporter": "python",
   "pygments_lexer": "ipython3",
   "version": "3.6.6"
  }
 },
 "nbformat": 4,
 "nbformat_minor": 2
}
