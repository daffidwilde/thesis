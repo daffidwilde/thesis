{
 "cells": [
  {
   "cell_type": "code",
   "execution_count": 4,
   "metadata": {},
   "outputs": [],
   "source": [
    "import json\n",
    "import matplotlib.pyplot as plt\n",
    "import pandas as pd\n",
    "import scipy.stats\n",
    "\n",
    "%matplotlib inline"
   ]
  },
  {
   "cell_type": "code",
   "execution_count": 5,
   "metadata": {},
   "outputs": [],
   "source": [
    "with open('/Volumes/thesis-data/dtype_dict.json', 'r') as d:\n",
    "    dtypes = json.load(d)"
   ]
  },
  {
   "cell_type": "code",
   "execution_count": 6,
   "metadata": {},
   "outputs": [],
   "source": [
    "main = pd.read_csv(\n",
    "    '/Volumes/thesis-data/cwmtaf.csv',\n",
    "    dtype=dtypes,\n",
    "    parse_dates=['ADMDATE', 'DISCDATE', 'PERIOD']\n",
    ")"
   ]
  },
  {
   "cell_type": "code",
   "execution_count": 20,
   "metadata": {},
   "outputs": [],
   "source": [
    "class Distribution(object):\n",
    "\n",
    "    def __init__(self, dist_names=None):\n",
    "\n",
    "        if not dist_names:\n",
    "            raise ValueError('Must specify which distributions to fit.')\n",
    "\n",
    "        self.dist_names = dist_names\n",
    "        self.dist_results = []\n",
    "        self.params = {}\n",
    "\n",
    "        self.name = ''\n",
    "        self.p_value = 0\n",
    "        self.param = None\n",
    "        \n",
    "        self.fitted = False\n",
    "        \n",
    "        \n",
    "    def fit(self, y):\n",
    "\n",
    "        self.dist_results = []\n",
    "        self.params = {}\n",
    "\n",
    "        for dist_name in self.dist_names:\n",
    "            dist = getattr(scipy.stats, dist_name)\n",
    "            param = dist.fit(y)\n",
    "\n",
    "            self.params[dist_name] = param\n",
    "            #Applying the Kolmogorov-Smirnov test\n",
    "            D, p = scipy.stats.kstest(y, dist_name, args=param)\n",
    "            self.dist_results.append((dist_name, p))\n",
    "\n",
    "        #select the best fitted distribution\n",
    "        sel_dist, p = (max(self.dist_results, key=lambda item: item[1]))\n",
    "        #store the name of the best fit and its p value\n",
    "        self.name = sel_dist\n",
    "        self.p_value = p\n",
    "\n",
    "        self.fitted = True\n",
    "        return self.name, self.p_value\n",
    "    \n",
    "    def sample(self, n=1):\n",
    "\n",
    "        if self.fitted:\n",
    "            dist_name = self.name\n",
    "            param = self.params[dist_name]\n",
    "            #initiate the scipy distribution\n",
    "            dist = getattr(scipy.stats, dist_name)\n",
    "            return dist.rvs(*param[:-2], loc=param[-2], scale=param[-1], size=n)\n",
    "\n",
    "        else:\n",
    "            raise ValueError('Must first run the Fit method.')\n",
    "\n",
    "    def plot(self, y):\n",
    "\n",
    "        x = self.sample(n=len(y))\n",
    "        plt.hist(x, alpha=0.5, bins=100, label='Fitted')\n",
    "        plt.hist(y, alpha=0.5, bins=100, label='Actual')\n",
    "        plt.legend(loc='upper right')"
   ]
  },
  {
   "cell_type": "code",
   "execution_count": 21,
   "metadata": {},
   "outputs": [
    {
     "name": "stdout",
     "output_type": "stream",
     "text": [
      "(16.611899999998805, 1902.485267747899)\n"
     ]
    }
   ],
   "source": [
    "dist = Distribution(['expon', 'norm', 'lognorm'])\n",
    "\n",
    "data = main.groupby('SPELL_ID')['NetCost'].sum()\n",
    "name, p = dist.fit(data)\n",
    "\n",
    "print(dist.params[name])"
   ]
  },
  {
   "cell_type": "code",
   "execution_count": 22,
   "metadata": {},
   "outputs": [
    {
     "data": {
      "image/png": "[encoded data removed]",
      "text/plain": [
       "<Figure size 432x288 with 1 Axes>"
      ]
     },
     "metadata": {},
     "output_type": "display_data"
    }
   ],
   "source": [
    "dist.plot(data)"
   ]
  },
  {
   "cell_type": "code",
   "execution_count": null,
   "metadata": {},
   "outputs": [],
   "source": []
  }
 ],
 "metadata": {
  "kernelspec": {
   "display_name": "Python 3",
   "language": "python",
   "name": "python3"
  },
  "language_info": {
   "codemirror_mode": {
    "name": "ipython",
    "version": 3
   },
   "file_extension": ".py",
   "mimetype": "text/x-python",
   "name": "python",
   "nbconvert_exporter": "python",
   "pygments_lexer": "ipython3",
   "version": "3.6.6"
  }
 },
 "nbformat": 4,
 "nbformat_minor": 2
}
