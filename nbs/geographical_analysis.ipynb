{
 "cells": [
  {
   "cell_type": "code",
   "execution_count": 1,
   "metadata": {},
   "outputs": [],
   "source": [
    "import json\n",
    "\n",
    "import numpy as np\n",
    "import pandas as pd"
   ]
  },
  {
   "cell_type": "code",
   "execution_count": 31,
   "metadata": {},
   "outputs": [],
   "source": [
    "with open('/Volumes/thesis-data/dtype_dict.json') as f:\n",
    "    dtypes = json.load(f)\n",
    "\n",
    "df = pd.read_csv('/Volumes/thesis-data/main.csv', dtype=dtypes,\n",
    "                 parse_dates=['PERIOD', 'ADMDATE', 'DISCDATE'])"
   ]
  },
  {
   "cell_type": "markdown",
   "metadata": {},
   "source": [
    "# Geographical analysis\n",
    "\n",
    "We hope to visualise aspects and trends in the data in relation to the geography of our patients. The GP practice of every patient is recorded in the data, and the health board has kindly provided the decodings of most of these practice codes.\n",
    "\n",
    "Here we will extract the observed codes in the data, find their decoded information and then reduce the main dataset down to only include records for patients that we have information for. From there we can begin our analysis."
   ]
  },
  {
   "cell_type": "code",
   "execution_count": 32,
   "metadata": {},
   "outputs": [],
   "source": [
    "codes = pd.read_csv('../rsc/practice_codes.csv')"
   ]
  },
  {
   "cell_type": "code",
   "execution_count": 33,
   "metadata": {},
   "outputs": [],
   "source": [
    "observed_codes = [code for code in df.practice_code.unique()[:-1] if code != np.nan]\n",
    "\n",
    "codes = codes.set_index('PracticeCode').drop([c for c in codes.PracticeCode if c not in observed_codes]).reset_index()\n",
    "\n",
    "known_codes = codes.PracticeCode"
   ]
  },
  {
   "cell_type": "code",
   "execution_count": 40,
   "metadata": {},
   "outputs": [],
   "source": [
    "df = df.set_index('practice_code').drop([c for c in df.practice_code if c not in known_codes.values]).reset_index()"
   ]
  },
  {
   "cell_type": "code",
   "execution_count": null,
   "metadata": {},
   "outputs": [],
   "source": []
  }
 ],
 "metadata": {
  "kernelspec": {
   "display_name": "Python 3",
   "language": "python",
   "name": "python3"
  },
  "language_info": {
   "codemirror_mode": {
    "name": "ipython",
    "version": 3
   },
   "file_extension": ".py",
   "mimetype": "text/x-python",
   "name": "python",
   "nbconvert_exporter": "python",
   "pygments_lexer": "ipython3",
   "version": "3.6.4"
  }
 },
 "nbformat": 4,
 "nbformat_minor": 2
}
