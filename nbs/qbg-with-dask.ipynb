{
 "cells": [
  {
   "cell_type": "code",
   "execution_count": 510,
   "metadata": {},
   "outputs": [],
   "source": [
    "from dask import delayed\n",
    "\n",
    "import dask.dataframe as dd\n",
    "import dask.array as da\n",
    "import pandas as pd\n",
    "import numpy as np\n",
    "import dask\n",
    "import time\n",
    "import itertools"
   ]
  },
  {
   "cell_type": "code",
   "execution_count": 511,
   "metadata": {},
   "outputs": [],
   "source": [
    "df = pd.read_csv('zoo.csv')\n",
    "\n",
    "x_bar = df[df.catsize == 1]\n",
    "x_til = df[df.catsize != 1]\n",
    "\n",
    "x_bar.to_csv('x_bar.csv', index_label='ORIGINAL_INDEX')\n",
    "x_til.to_csv('x_til.csv', index_label='ORIGINAL_INDEX')"
   ]
  },
  {
   "cell_type": "code",
   "execution_count": 512,
   "metadata": {},
   "outputs": [],
   "source": [
    "x_bar = dd.read_csv('x_bar.csv').set_index('ORIGINAL_INDEX')\n",
    "x_til = dd.read_csv('x_til.csv').set_index('ORIGINAL_INDEX')"
   ]
  },
  {
   "cell_type": "code",
   "execution_count": 580,
   "metadata": {},
   "outputs": [],
   "source": [
    "def get_sample(x, seed, sample_size):\n",
    "\n",
    "    frac = sample_size / len(x)\n",
    "    sample = x.sample(frac, random_state=seed)\n",
    "\n",
    "    return sample\n",
    "\n",
    "\n",
    "def dissim(A, b):\n",
    "    \n",
    "    return np.sum(A != b, axis=1) / len(b)\n",
    "\n",
    "# @delayed\n",
    "def build_matrices(x_bar_sample, x_til_sample, beta, sample_size):\n",
    "\n",
    "    x_bar_arr = x_bar_sample.values.compute()\n",
    "    x_til_arr = x_til_sample.values.compute()\n",
    "\n",
    "    dissim_matrix = np.empty((sample_size, sample_size))\n",
    "\n",
    "    for i, bar_row in enumerate(x_bar_arr):\n",
    "        dissim_matrix[i, :] = dissim(x_til_arr, bar_row)\n",
    "    \n",
    "    adjacency_matrix = np.where(dissim_matrix <= beta, 1, 0)\n",
    "    \n",
    "    return adjacency_matrix, dissim_matrix\n",
    "\n",
    "\n",
    "def build_dataframe(x_bar_sample, x_til_sample, sample_idx, beta, sample_size):\n",
    "\n",
    "    adjacency_matrix, dissim_matrix = build_matrices(x_bar_sample, x_til_sample, beta, sample_size)\n",
    "\n",
    "    row_idxs, col_idxs = np.where(adjacency_matrix == 1)\n",
    "    idx_pairs = zip(row_idxs, col_idxs)\n",
    "    \n",
    "    dfs = []\n",
    "    for idxs in idx_pairs:\n",
    "\n",
    "        x_bar_idx = x_bar_sample.index.compute()[idxs[0]]\n",
    "        x_til_idx = x_til_sample.index.compute()[idxs[1]]\n",
    "\n",
    "        adjacency_df = pd.DataFrame({\n",
    "            'beta': beta, 'sample_idx': sample_idx,\n",
    "            'x_bar_idx': x_bar_idx, 'x_til_idx': x_til_idx,\n",
    "            'dissim': dissim_matrix[idxs[0], idxs[1]],\n",
    "            'sample_size': sample_size\n",
    "        }, index=[''])\n",
    "\n",
    "        dfs.append(adjacency_df)\n",
    "    \n",
    "    if len(dfs) > 0:\n",
    "        df = dd.concat(dfs, axis=0, interleave_partitions=True)\n",
    "        \n",
    "        return df"
   ]
  },
  {
   "cell_type": "code",
   "execution_count": 603,
   "metadata": {},
   "outputs": [],
   "source": [
    "def build_task(x_bar, x_til, sample_idx=0, seed=0, beta=0.5, sample_size=10):\n",
    "    \n",
    "    start = time.clock()\n",
    "\n",
    "    # Take a sample from each set\n",
    "    x_bar_sample = get_sample(x_bar, seed, sample_size)\n",
    "    x_til_sample = get_sample(x_til, seed, sample_size)\n",
    "\n",
    "    # Only consider the relevant columns from now on\n",
    "    x_bar_sample.drop(['animal_name', 'class_type', 'catsize'], axis=1)\n",
    "    x_til_sample.drop(['animal_name', 'class_type', 'catsize'], axis=1)\n",
    "\n",
    "    # Construct the dataframe with similar pairs\n",
    "    dataframe = build_dataframe(x_bar_sample, x_til_sample,\n",
    "                                sample_idx, beta, sample_size)\n",
    "\n",
    "    time_taken = time.clock() - start\n",
    "\n",
    "    if np.any(dataframe):\n",
    "        dataframe['time_taken'] = time_taken\n",
    "\n",
    "        dataframe.to_csv(f'results/beta{beta}/size{sample_size}/seed{seed}/idx{sample_idx}/', index=False)"
   ]
  },
  {
   "cell_type": "code",
   "execution_count": 607,
   "metadata": {},
   "outputs": [],
   "source": [
    "def compute_task(sample_idx=0, beta=0.5, sample_size=10, seed=0):\n",
    "\n",
    "    result = dd.read_csv(f'results/beta{beta}/size{sample_size}/**/**/*').compute(get=dask.get)\n",
    "\n",
    "    return result"
   ]
  },
  {
   "cell_type": "code",
   "execution_count": 605,
   "metadata": {},
   "outputs": [],
   "source": [
    "for seed, idx in itertools.product(range(3), repeat=2):\n",
    "    build_task(x_bar, x_til, seed=seed)"
   ]
  },
  {
   "cell_type": "code",
   "execution_count": 608,
   "metadata": {
    "scrolled": true
   },
   "outputs": [
    {
     "data": {
      "text/plain": [
       "x_bar_idx\n",
       "71    14\n",
       "95    10\n",
       "66     9\n",
       "5      7\n",
       "56     6\n",
       "Name: x_til_idx, dtype: int64"
      ]
     },
     "execution_count": 608,
     "metadata": {},
     "output_type": "execute_result"
    }
   ],
   "source": [
    "result = compute_task().groupby('x_bar_idx').x_til_idx.count().nlargest(5)\n",
    "result"
   ]
  },
  {
   "cell_type": "code",
   "execution_count": 484,
   "metadata": {},
   "outputs": [],
   "source": [
    "sample = get_sample(x_bar, seed=0, sample_size=10)\n",
    "sample2 = get_sample(x_til, seed=0, sample_size=10)"
   ]
  },
  {
   "cell_type": "code",
   "execution_count": 485,
   "metadata": {},
   "outputs": [
    {
     "data": {
      "text/plain": [
       "Int64Index([69, 70, 71, 87, 5, 22, 18, 74, 50, 29], dtype='int64', name='ORIGINAL_INDEX')"
      ]
     },
     "execution_count": 485,
     "metadata": {},
     "output_type": "execute_result"
    }
   ],
   "source": [
    "sample.index.compute()"
   ]
  },
  {
   "cell_type": "code",
   "execution_count": 486,
   "metadata": {},
   "outputs": [],
   "source": [
    "arr = da.array(sample.values)"
   ]
  },
  {
   "cell_type": "code",
   "execution_count": 487,
   "metadata": {},
   "outputs": [],
   "source": [
    "array = arr.compute()"
   ]
  },
  {
   "cell_type": "code",
   "execution_count": 488,
   "metadata": {},
   "outputs": [],
   "source": [
    "exdf = pd.DataFrame(columns=['beta', 'dissim', 'name'], index=['name'])\n",
    "\n",
    "dask_df = dd.from_pandas(exdf, npartitions=1)"
   ]
  },
  {
   "cell_type": "code",
   "execution_count": 489,
   "metadata": {},
   "outputs": [],
   "source": [
    "dfs = []\n",
    "\n",
    "for beta, name in enumerate(['Henry', 'Ed', 'Jack', 'Mol', 'Con', 'Jess']):\n",
    "    df = pd.DataFrame({'beta': beta, 'dissim': 0.5, 'name': name}, index=[''])\n",
    "    dfs.append(df)\n",
    "\n",
    "dask_df = dd.concat(dfs, axis=0, interleave_partitions=True)"
   ]
  },
  {
   "cell_type": "code",
   "execution_count": 490,
   "metadata": {},
   "outputs": [
    {
     "data": {
      "text/html": [
       "<div>\n",
       "<style scoped>\n",
       "    .dataframe tbody tr th:only-of-type {\n",
       "        vertical-align: middle;\n",
       "    }\n",
       "\n",
       "    .dataframe tbody tr th {\n",
       "        vertical-align: top;\n",
       "    }\n",
       "\n",
       "    .dataframe thead th {\n",
       "        text-align: right;\n",
       "    }\n",
       "</style>\n",
       "<table border=\"1\" class=\"dataframe\">\n",
       "  <thead>\n",
       "    <tr style=\"text-align: right;\">\n",
       "      <th></th>\n",
       "      <th>beta</th>\n",
       "      <th>dissim</th>\n",
       "      <th>name</th>\n",
       "    </tr>\n",
       "  </thead>\n",
       "  <tbody>\n",
       "    <tr>\n",
       "      <th></th>\n",
       "      <td>0</td>\n",
       "      <td>0.5</td>\n",
       "      <td>Henry</td>\n",
       "    </tr>\n",
       "    <tr>\n",
       "      <th></th>\n",
       "      <td>1</td>\n",
       "      <td>0.5</td>\n",
       "      <td>Ed</td>\n",
       "    </tr>\n",
       "    <tr>\n",
       "      <th></th>\n",
       "      <td>2</td>\n",
       "      <td>0.5</td>\n",
       "      <td>Jack</td>\n",
       "    </tr>\n",
       "    <tr>\n",
       "      <th></th>\n",
       "      <td>3</td>\n",
       "      <td>0.5</td>\n",
       "      <td>Mol</td>\n",
       "    </tr>\n",
       "    <tr>\n",
       "      <th></th>\n",
       "      <td>4</td>\n",
       "      <td>0.5</td>\n",
       "      <td>Con</td>\n",
       "    </tr>\n",
       "    <tr>\n",
       "      <th></th>\n",
       "      <td>5</td>\n",
       "      <td>0.5</td>\n",
       "      <td>Jess</td>\n",
       "    </tr>\n",
       "  </tbody>\n",
       "</table>\n",
       "</div>"
      ],
      "text/plain": [
       "  beta  dissim   name\n",
       "     0     0.5  Henry\n",
       "     1     0.5     Ed\n",
       "     2     0.5   Jack\n",
       "     3     0.5    Mol\n",
       "     4     0.5    Con\n",
       "     5     0.5   Jess"
      ]
     },
     "execution_count": 490,
     "metadata": {},
     "output_type": "execute_result"
    }
   ],
   "source": [
    "dask_df.compute()"
   ]
  },
  {
   "cell_type": "code",
   "execution_count": 491,
   "metadata": {},
   "outputs": [],
   "source": [
    "inputs = itertools.product(range(10),\n",
    "                           np.round(np.linspace(0, 0.5, 6)[::-1], 2),\n",
    "                           range(10, 30))"
   ]
  },
  {
   "cell_type": "code",
   "execution_count": 492,
   "metadata": {},
   "outputs": [],
   "source": [
    "results = [build_task(x_bar, x_til, sample_idx, beta, sample_size) \\\n",
    "           for sample_idx, beta, sample_size in inputs]"
   ]
  },
  {
   "cell_type": "code",
   "execution_count": 493,
   "metadata": {},
   "outputs": [],
   "source": [
    "bsam = get_sample(x_bar, 0, 10)\n",
    "tsam = get_sample(x_til, 0, 10)"
   ]
  },
  {
   "cell_type": "code",
   "execution_count": 494,
   "metadata": {},
   "outputs": [],
   "source": [
    "adjacency_matrix, dissim_matrix = build_matrices(bsam, tsam, 0.5, 10)"
   ]
  },
  {
   "cell_type": "code",
   "execution_count": 495,
   "metadata": {},
   "outputs": [
    {
     "name": "stdout",
     "output_type": "stream",
     "text": [
      "[(0, 2), (0, 3), (0, 8), (0, 9), (1, 2), (1, 3), (1, 9), (2, 0), (2, 1), (2, 2), (2, 4), (2, 5), (2, 8), (3, 0), (3, 1), (3, 2), (3, 5), (3, 6), (3, 7), (4, 2), (4, 3), (4, 8), (4, 9), (5, 2), (5, 3), (5, 8), (5, 9), (6, 2), (6, 4), (6, 7), (6, 8), (7, 3), (7, 7), (7, 9), (8, 2), (8, 3), (8, 8), (8, 9), (9, 2), (9, 3), (9, 9)]\n"
     ]
    }
   ],
   "source": [
    "row_idxs, col_idxs = np.where(adjacency_matrix == 1)\n",
    "idx_pairs = list(zip(row_idxs, col_idxs))\n",
    "print(idx_pairs)"
   ]
  },
  {
   "cell_type": "code",
   "execution_count": null,
   "metadata": {},
   "outputs": [],
   "source": []
  }
 ],
 "metadata": {
  "kernelspec": {
   "display_name": "Python 3",
   "language": "python",
   "name": "python3"
  },
  "language_info": {
   "codemirror_mode": {
    "name": "ipython",
    "version": 3
   },
   "file_extension": ".py",
   "mimetype": "text/x-python",
   "name": "python",
   "nbconvert_exporter": "python",
   "pygments_lexer": "ipython3",
   "version": "3.6.4"
  }
 },
 "nbformat": 4,
 "nbformat_minor": 2
}
