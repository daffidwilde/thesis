{
 "cells": [
  {
   "cell_type": "code",
   "execution_count": 59,
   "metadata": {},
   "outputs": [],
   "source": [
    "import numpy as np\n",
    "import pandas as pd"
   ]
  },
  {
   "cell_type": "code",
   "execution_count": 89,
   "metadata": {},
   "outputs": [],
   "source": [
    "def get_sample(arr, n_iter=None, sample_size=1000):\n",
    "    \"\"\" Get random sample from arr. \n",
    "    \n",
    "    Parameters\n",
    "    ----------\n",
    "    arr : np.array\n",
    "        Array from which to take sample\n",
    "    n_iter : int\n",
    "        Iteration number\n",
    "    sample_size : int\n",
    "        Size of sample from arr\n",
    "    \n",
    "    Returns\n",
    "    -------\n",
    "    sample : np.array\n",
    "        Sample from arr of length sample_size\n",
    "    \"\"\"\n",
    "    np.random.seed(n_iter)\n",
    "    m = arr.shape[1]\n",
    "\n",
    "    start_idx = (n_iter * sample_size) % m\n",
    "    if start_idx + sample_size >= m:\n",
    "        np.random.shuffle(arr)\n",
    "\n",
    "    return arr[start_idx:start_idx+sample_size]\n",
    "\n",
    "\n",
    "def collect_samples(arr, sample_size, n_samples):\n",
    "    \"\"\" Collect a number of samples from arr.\n",
    "    \n",
    "    Parameters\n",
    "    ----------\n",
    "    arr : np.array\n",
    "        Array from which to take samples\n",
    "    sample_size : int\n",
    "        Size of sample from arr\n",
    "    n_samples : int\n",
    "        Number of samples to take from arr\n",
    "    \n",
    "    Returns\n",
    "    -------\n",
    "    samples : np.array\n",
    "        Sample matrix with shape (n_samples, sample_size)\n",
    "    \"\"\"\n",
    "    m = arr.shape[1]\n",
    "    samples = np.zeros((n_samples, sample_size, m), np.int64)\n",
    "\n",
    "    for sample_n in range(n_samples):\n",
    "        sample = get_sample(arr, n_iter=sample_n,\n",
    "                            sample_size=sample_size)\n",
    "\n",
    "        samples[sample_n] = sample\n",
    "\n",
    "    return samples\n",
    "\n",
    "\n",
    "def dissim(X, x):\n",
    "    \n",
    "    return np.sum(X != x, axis=1)\n",
    "\n",
    "\n",
    "def build_dissim_matrix(X, Y):\n",
    "\n",
    "    dissim_matrix = np.zeros((len(X), len(Y)))\n",
    "    \n",
    "    for i, x in enumerate(X):\n",
    "        dissim_matrix[i, :] = dissim(Y, x)\n",
    "    \n",
    "    return dissim_matrix\n",
    "\n",
    "def get_adjacency_matrices(dissim_matrix, beta_max, res):\n",
    "    \n",
    "    adjacency_matrices = []\n",
    "    for beta in np.linspace(0, beta_max, res):\n",
    "        adjacency_matrix = np.where(dissim_matrix <= beta, 1, 0)\n",
    "        adjacency_matrices.append(adjacency_matrix)\n",
    "\n",
    "    return adjacency_matrices"
   ]
  },
  {
   "cell_type": "code",
   "execution_count": 90,
   "metadata": {},
   "outputs": [],
   "source": [
    "df = pd.read_csv('zoo.csv')\n",
    "\n",
    "df = df[[col for col in df.columns if col not in ['animal_name', 'class_type']]]\n",
    "\n",
    "catsize = df[df.catsize == 1].drop('catsize', axis=1).values\n",
    "not_catsize = df[df.catsize == 0].drop('catsize', axis=1).values"
   ]
  },
  {
   "cell_type": "code",
   "execution_count": 91,
   "metadata": {},
   "outputs": [
    {
     "name": "stdout",
     "output_type": "stream",
     "text": [
      "CPU times: user 1.53 s, sys: 33.1 ms, total: 1.56 s\n",
      "Wall time: 1.57 s\n"
     ]
    }
   ],
   "source": [
    "%%time\n",
    "\n",
    "n_samples = 10000\n",
    "\n",
    "cat_samples = collect_samples(catsize, sample_size=25, n_samples=n_samples)\n",
    "notcat_samples = collect_samples(not_catsize, sample_size=25, n_samples=n_samples)"
   ]
  },
  {
   "cell_type": "code",
   "execution_count": 101,
   "metadata": {},
   "outputs": [
    {
     "name": "stdout",
     "output_type": "stream",
     "text": [
      "CPU times: user 2.65 s, sys: 154 ms, total: 2.8 s\n",
      "Wall time: 2.8 s\n"
     ]
    }
   ],
   "source": [
    "%%time\n",
    "\n",
    "beta_max = 0.33\n",
    "res = 4\n",
    "results = []\n",
    "for cat_sample, notcat_sample in zip(cat_samples, notcat_samples):\n",
    "    dissim_matrix = build_dissim_matrix(cat_sample,\n",
    "                                        notcat_sample)\n",
    "    adjacency_matrices = get_adjacency_matrices(dissim_matrix,\n",
    "                                                beta_max, res)\n",
    "    results.append(adjacency_matrices)\n",
    "\n",
    "results"
   ]
  },
  {
   "cell_type": "code",
   "execution_count": 102,
   "metadata": {},
   "outputs": [
    {
     "data": {
      "text/plain": [
       "(0.0237936, 0.15240559241392698)"
      ]
     },
     "execution_count": 102,
     "metadata": {},
     "output_type": "execute_result"
    }
   ],
   "source": [
    "np.mean(results), np.std(results)"
   ]
  },
  {
   "cell_type": "code",
   "execution_count": null,
   "metadata": {},
   "outputs": [],
   "source": []
  }
 ],
 "metadata": {
  "kernelspec": {
   "display_name": "Python 3",
   "language": "python",
   "name": "python3"
  },
  "language_info": {
   "codemirror_mode": {
    "name": "ipython",
    "version": 3
   },
   "file_extension": ".py",
   "mimetype": "text/x-python",
   "name": "python",
   "nbconvert_exporter": "python",
   "pygments_lexer": "ipython3",
   "version": "3.6.4"
  }
 },
 "nbformat": 4,
 "nbformat_minor": 2
}
