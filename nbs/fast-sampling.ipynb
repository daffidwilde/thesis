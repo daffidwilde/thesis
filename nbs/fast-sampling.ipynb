{
 "cells": [
  {
   "cell_type": "code",
   "execution_count": 1,
   "metadata": {},
   "outputs": [],
   "source": [
    "import numpy as np\n",
    "import pandas as pd"
   ]
  },
  {
   "cell_type": "code",
   "execution_count": 10,
   "metadata": {},
   "outputs": [],
   "source": [
    "def get_sample(arr, n_iter=None, sample_size=1000):\n",
    "    \"\"\" Get random sample from arr. \n",
    "    \n",
    "    Parameters\n",
    "    ----------\n",
    "    arr : np.array\n",
    "        Array from which to take sample\n",
    "    n_iter : int\n",
    "        Iteration number\n",
    "    sample_size : int\n",
    "        Size of sample from arr\n",
    "    \n",
    "    Returns\n",
    "    -------\n",
    "    sample : np.array\n",
    "        Sample from arr of length sample_size\n",
    "    \"\"\"\n",
    "    np.random.seed(n_iter)\n",
    "    m = arr.shape[0]\n",
    "\n",
    "    start_idx = (n_iter * sample_size) % m\n",
    "    if start_idx + sample_size >= m:\n",
    "        np.random.shuffle(arr)\n",
    "        start_idx = 0\n",
    "\n",
    "    return arr[start_idx:start_idx+sample_size]\n",
    "\n",
    "def collect_samples(arr, sample_size, n_samples):\n",
    "    \"\"\" Collect a number of samples from arr.\n",
    "\n",
    "    Parameters\n",
    "    ----------\n",
    "    arr : np.array\n",
    "        Array from which to take samples\n",
    "    sample_size : int\n",
    "        Size of sample from arr\n",
    "    n_samples : int\n",
    "        Number of samples to take from arr\n",
    "\n",
    "    Returns\n",
    "    -------\n",
    "    samples : np.array\n",
    "        Sample matrix with shape (n_samples, sample_size)\n",
    "    \"\"\"\n",
    "    m = arr.shape[0]\n",
    "    samples = np.empty((n_samples, sample_size), object)\n",
    "\n",
    "    for sample_n in range(n_samples):\n",
    "        sample = get_sample(arr, n_iter=sample_n,\n",
    "                            sample_size=sample_size)\n",
    "        samples[sample_n] = sample\n",
    "\n",
    "    return samples\n",
    "\n",
    "\n",
    "def build_dissim_matrix(X, Y):\n",
    "\n",
    "    dissim_matrix = np.zeros((len(X), len(Y)))\n",
    "\n",
    "    for i, x in enumerate(X):\n",
    "        dissim_matrix[i, :] = np.sum(Y != x, axis=1)\n",
    "\n",
    "    return dissim_matrix\n",
    "\n",
    "def get_adjacency_matrices(dissim_matrix, beta_max, res):\n",
    "    \n",
    "    adjacency_matrices = [\n",
    "        np.where(dissim_matrix <= beta, 1, 0) for beta in np.linspace(0, beta_max, res)\n",
    "    ]\n",
    "\n",
    "    return adjacency_matrices"
   ]
  },
  {
   "cell_type": "code",
   "execution_count": 13,
   "metadata": {},
   "outputs": [
    {
     "name": "stdout",
     "output_type": "stream",
     "text": [
      "CPU times: user 113 ms, sys: 22 ms, total: 135 ms\n",
      "Wall time: 134 ms\n"
     ]
    }
   ],
   "source": [
    "%%time\n",
    "\n",
    "arr = np.array([i for i in range(30000)])\n",
    "n_samples = 10000\n",
    "sample_size = 90\n",
    "\n",
    "arr_samples = collect_samples(arr, sample_size, n_samples)"
   ]
  },
  {
   "cell_type": "code",
   "execution_count": null,
   "metadata": {},
   "outputs": [],
   "source": []
  }
 ],
 "metadata": {
  "kernelspec": {
   "display_name": "Python 3",
   "language": "python",
   "name": "python3"
  },
  "language_info": {
   "codemirror_mode": {
    "name": "ipython",
    "version": 3
   },
   "file_extension": ".py",
   "mimetype": "text/x-python",
   "name": "python",
   "nbconvert_exporter": "python",
   "pygments_lexer": "ipython3",
   "version": "3.6.4"
  }
 },
 "nbformat": 4,
 "nbformat_minor": 2
}
