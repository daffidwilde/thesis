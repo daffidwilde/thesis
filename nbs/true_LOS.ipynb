{
 "cells": [
  {
   "cell_type": "code",
   "execution_count": null,
   "metadata": {},
   "outputs": [],
   "source": [
    "import json\n",
    "\n",
    "import pandas as pd\n",
    "import numpy as np"
   ]
  },
  {
   "cell_type": "code",
   "execution_count": null,
   "metadata": {},
   "outputs": [],
   "source": [
    "with open('/Volumes/thesis-data/dtype_dict.json') as f:\n",
    "    dtypes = json.load(f)\n",
    "\n",
    "df = pd.read_csv('/Volumes/thesis-data/main.csv', dtype=dtypes,\n",
    "                 parse_dates=['PERIOD', 'ADMDATE', 'DISCDATE'])"
   ]
  },
  {
   "cell_type": "code",
   "execution_count": null,
   "metadata": {},
   "outputs": [],
   "source": [
    "df['TRUE_LOS'] = df['DISCDATE'] - df['ADMDATE']\n",
    "df['TRUE_LOS'] = df.TRUE_LOS.dt.days\n",
    "\n",
    "spell_los = df.groupby(['PATIENT_ID', 'SPELL_ID']).TRUE_LOS.sum()\n",
    "wrong_discdates = spell_los.iloc[np.where(spell_los < 0)].reset_index()\n",
    "spell_ids = wrong_discdates.SPELL_ID"
   ]
  },
  {
   "cell_type": "code",
   "execution_count": null,
   "metadata": {},
   "outputs": [],
   "source": [
    "df = df.set_index('SPELL_ID').drop(spell_ids.values).reset_index()"
   ]
  },
  {
   "cell_type": "code",
   "execution_count": null,
   "metadata": {},
   "outputs": [],
   "source": []
  }
 ],
 "metadata": {
  "kernelspec": {
   "display_name": "Python 3",
   "language": "python",
   "name": "python3"
  }
 },
 "nbformat": 4,
 "nbformat_minor": 2
}
