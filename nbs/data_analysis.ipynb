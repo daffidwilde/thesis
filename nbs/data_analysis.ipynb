{
 "cells": [
  {
   "cell_type": "code",
   "execution_count": null,
   "metadata": {},
   "outputs": [],
   "source": [
    "from scipy.stats import gaussian_kde\n",
    "\n",
    "import json\n",
    "\n",
    "import matplotlib.pyplot as plt\n",
    "import numpy as np\n",
    "import pandas as pd\n",
    "\n",
    "%matplotlib inline"
   ]
  },
  {
   "cell_type": "code",
   "execution_count": null,
   "metadata": {},
   "outputs": [],
   "source": [
    "with open('/Volumes/thesis-data/dtype_dict.json') as f:\n",
    "    dtypes = json.load(f)\n",
    "\n",
    "df = pd.read_csv('/Volumes/thesis-data/main.csv', dtype=dtypes,\n",
    "                 parse_dates=['PERIOD', 'ADMDATE', 'DISCDATE'])"
   ]
  },
  {
   "cell_type": "markdown",
   "metadata": {},
   "source": [
    "# Cost variation\n",
    "\n",
    "Our objective is to better understand cost variation in our data, so let us focus our analysis on that for now. We begin by determining the components of costs with the highest variation.\n",
    "\n",
    "- Coefficient of variation is a standardised measure\n",
    "- Use this as a model for regression to understand what makes the variation"
   ]
  },
  {
   "cell_type": "code",
   "execution_count": null,
   "metadata": {},
   "outputs": [],
   "source": [
    "costs = [\n",
    "    'COST', 'NetCost', 'DRUG', 'ENDO', 'HCD',\n",
    "    'IMG', 'IMG_OTH', 'MED', 'NCI', 'NID', 'OCLST', 'OPTH',\n",
    "    'OTH', 'OTH_OTH', 'OUTP', 'OVH', 'PATH', 'PATH_OTH',\n",
    "    'PHAR', 'PROS', 'RADTH', 'SECC', 'SPS', 'THER', 'WARD'\n",
    "]"
   ]
  },
  {
   "cell_type": "markdown",
   "metadata": {},
   "source": [
    "We collect the total of all cost variables in a spell, i.e. the total cost of each episode in every spell."
   ]
  },
  {
   "cell_type": "code",
   "execution_count": null,
   "metadata": {},
   "outputs": [],
   "source": [
    "sum_costs = df.groupby(['PATIENT_ID', 'SPELL_ID'])[costs].sum().reset_index() \\\n",
    "                                                         .rename({cost : f'{cost}_sum' for cost in costs}, axis=1)\n",
    "\n",
    "trim_sum_costs = sum_costs[sum_costs['NetCost_sum'] <= 20000]"
   ]
  },
  {
   "cell_type": "code",
   "execution_count": null,
   "metadata": {},
   "outputs": [],
   "source": [
    "just_costs = sum_costs.drop(['PATIENT_ID', 'SPELL_ID'], axis=1)\n",
    "\n",
    "just_costs.var().round(2).sort_values(ascending=False)"
   ]
  },
  {
   "cell_type": "markdown",
   "metadata": {},
   "source": [
    "## Net cost distribution"
   ]
  },
  {
   "cell_type": "code",
   "execution_count": null,
   "metadata": {},
   "outputs": [],
   "source": [
    "def get_kde(df, col, steps=300):\n",
    "\n",
    "    data = df[col]\n",
    "    xs = np.linspace(data.min(), data.max(), steps)\n",
    "    density = gaussian_kde(data)\n",
    "\n",
    "    return xs, density"
   ]
  },
  {
   "cell_type": "markdown",
   "metadata": {},
   "source": [
    "Taking this trim is not necessarily that useful. Sure, if you take a tail off you get a \"nicer\" distribution and people cost less on the whole. What would be better is to incorporate the carbon-copy stories and say these two very similar people are far apart (one in the tail, the other in the nose) but if you changed this thing about them you could move that person person in the tail up. Thus, saving potentially £1000s."
   ]
  },
  {
   "cell_type": "code",
   "execution_count": null,
   "metadata": {},
   "outputs": [],
   "source": [
    "fig, ax = plt.subplots(1, figsize=(12, 8))\n",
    "\n",
    "for name, dataset in zip(['Full', 'Trimmed'], [sum_costs, trim_sum_costs]):\n",
    "    xs, density = get_kde(dataset, 'NetCost_sum')\n",
    "    ax.plot(xs, density(xs), label=name)\n",
    "    ax.fill_between(xs, [0]*xs, density(xs), alpha=0.2)\n",
    "\n",
    "ax.set_title('Gaussian KDE for net cost of a spell')\n",
    "ax.set_xlim(0, 20000)\n",
    "ax.legend(loc='best');"
   ]
  },
  {
   "cell_type": "markdown",
   "metadata": {},
   "source": [
    "# Diabetes analysis\n",
    "\n",
    "This is a known area of interest to the health board.\n",
    "\n",
    "We begin by defining a new column in the dataset which combines the diabetes primary/secondary diagnosis columns. From here we can analyse the proportion of admissions that are diabetic and average length of stays of diabetic patients. This is done over time using a rolling 28-day mean and yearly resampling.\n",
    "\n",
    "Note that we trim the dataset to only include episodes with admission dates from April 2013 onwards and discharge dates prior to May 2017; this is because not all of our data sources range over the same periods of time."
   ]
  },
  {
   "cell_type": "code",
   "execution_count": null,
   "metadata": {},
   "outputs": [],
   "source": [
    "time_constraint = (df['ADMDATE'] >= '2012-04-01') & (df['DISCDATE'] < '2017-03-01')"
   ]
  },
  {
   "cell_type": "code",
   "execution_count": null,
   "metadata": {},
   "outputs": [],
   "source": [
    "diabetes_present = (df['DiabetesPrim'] == '1') | (df['DiabetesSec'] == '1')\n",
    "df['Diabetes'] = np.where(diabetes_present, 1, 0)"
   ]
  },
  {
   "cell_type": "markdown",
   "metadata": {},
   "source": [
    "## Diabetic admissions as a proportion of the total per day\n",
    "\n",
    "Let's calculate the number of admissions for the whole dataset and for diabetic patients each day. This is equivalent to counting the number of unique spells every day.\n",
    "\n",
    "- Reworking the length of stay, finding the proportion of 'resources' (cost, beds, etc) that are diabetic"
   ]
  },
  {
   "cell_type": "code",
   "execution_count": null,
   "metadata": {},
   "outputs": [],
   "source": [
    "num_admissions = df[time_constraint].groupby(['ADMDATE']).SPELL_ID.nunique().reset_index() \\\n",
    "                                                         .rename({'SPELL_ID': 'nunique_spells'}, axis=1) \\\n",
    "                                                         .groupby('ADMDATE').nunique_spells.sum()"
   ]
  },
  {
   "cell_type": "code",
   "execution_count": null,
   "metadata": {},
   "outputs": [],
   "source": [
    "diab_admissions = df[time_constraint].groupby(['ADMDATE', 'PATIENT_ID', 'SPELL_ID']).Diabetes.max().reset_index() \\\n",
    "                                                                                    .groupby(['ADMDATE']).Diabetes.sum()"
   ]
  },
  {
   "cell_type": "code",
   "execution_count": null,
   "metadata": {},
   "outputs": [],
   "source": [
    "fig, ax = plt.subplots(1, figsize=(14, 10), dpi=300)\n",
    "\n",
    "proportions = diab_admissions / num_admissions\n",
    "rolling = proportions.rolling(28, center=True)\n",
    "mean = rolling.mean()\n",
    "monthly = proportions.resample('BM').mean()\n",
    "yearly = proportions.resample('BA-APR').mean()\n",
    "\n",
    "# ax.plot(proportions, '.', alpha=0.1, label='input data')\n",
    "# ax.plot(mean, '-', label='28 day rolling mean')\n",
    "ax.plot(monthly, '.-', label='end of month average')\n",
    "ax.plot(yearly, 'o', label='end of year average')\n",
    "\n",
    "ax.set_title('Diabetic admissions as a proportion of total admissions')\n",
    "ax.legend(loc='best');"
   ]
  },
  {
   "cell_type": "code",
   "execution_count": null,
   "metadata": {},
   "outputs": [],
   "source": [
    "fig, ax = plt.subplots(1, figsize=(14, 8))\n",
    "\n",
    "ax.boxplot(proportions, notch=True, vert=False, showmeans=True);"
   ]
  },
  {
   "cell_type": "markdown",
   "metadata": {},
   "source": [
    "## Average length of stay by admission date for diabetic patients\n",
    "\n",
    "Here we contrast the average length of stay for patients in a single spell (i.e. the total length of their episodes) for diabetic patients, non-diabetic patients and the general population."
   ]
  },
  {
   "cell_type": "code",
   "execution_count": null,
   "metadata": {},
   "outputs": [],
   "source": [
    "diab_LOS = df[(df['Diabetes'] == 1) & time_constraint].groupby(['ADMDATE', 'PATIENT_ID', 'SPELL_ID']) \\\n",
    "                                                      .LOS.sum().reset_index().rename({'LOS': 'LOS_sum'}, axis=1) \\\n",
    "                                                      .groupby('ADMDATE').LOS_sum.mean()"
   ]
  },
  {
   "cell_type": "code",
   "execution_count": null,
   "metadata": {},
   "outputs": [],
   "source": [
    "general_LOS = df[time_constraint].groupby(['Diabetes', 'ADMDATE', 'PATIENT_ID', 'SPELL_ID']) \\\n",
    "                                 .LOS.sum().reset_index().rename({'LOS': 'LOS_sum'}, axis=1) \\\n",
    "                                 .groupby(['Diabetes', 'ADMDATE']).LOS_sum.mean()\n",
    "\n",
    "without_LOS = df[(df['Diabetes'] == 0) & time_constraint].groupby(['ADMDATE', 'PATIENT_ID', 'SPELL_ID']) \\\n",
    "                                                         .LOS.sum().reset_index().rename({'LOS': 'LOS_sum'}, axis=1) \\\n",
    "                                                         .groupby('ADMDATE').LOS_sum.mean()"
   ]
  },
  {
   "cell_type": "code",
   "execution_count": null,
   "metadata": {},
   "outputs": [],
   "source": [
    "fig, ax = plt.subplots(1, figsize=(14, 10), dpi=300)\n",
    "\n",
    "rolling = diab_LOS.rolling(28, center=True)\n",
    "mean = rolling.mean()\n",
    "monthly = diab_LOS.resample('BM').mean()\n",
    "yearly = diab_LOS.resample('BA-APR').mean()\n",
    "\n",
    "# ax.plot(diab_LOS, '.', alpha=0.25, label='input data')\n",
    "# ax.plot(mean, '-', label='rolling mean')\n",
    "ax.plot(monthly, '.-', label='end of month average')\n",
    "ax.plot(yearly, 'o', label='end of year average')\n",
    "ax.set_ylabel('Average length of stay [days]')\n",
    "ax.set_title('The average length of stay for diabetic patients given their admission date')\n",
    "ax.legend(loc='best');"
   ]
  },
  {
   "cell_type": "code",
   "execution_count": null,
   "metadata": {},
   "outputs": [],
   "source": [
    "fig, ax = plt.subplots(1, figsize=(14, 8))\n",
    "\n",
    "ax.boxplot([diab_LOS.values, without_LOS.values, general_LOS.values],\n",
    "           vert=False, positions=[1, 2, 3], sym='.', showmeans=True, notch=True)\n",
    "ax.set_xlabel('Average length of stay')\n",
    "ax.set_yticks([1, 2, 3])\n",
    "ax.set_yticklabels(['diabetic', 'non-diabetic', 'general']);"
   ]
  },
  {
   "cell_type": "markdown",
   "metadata": {},
   "source": [
    "## True LOS"
   ]
  },
  {
   "cell_type": "code",
   "execution_count": null,
   "metadata": {},
   "outputs": [],
   "source": [
    "df['TRUE_LOS'] = df['DISCDATE'] - df['ADMDATE']\n",
    "df['TRUE_LOS'] = df.TRUE_LOS.dt.days"
   ]
  },
  {
   "cell_type": "code",
   "execution_count": null,
   "metadata": {},
   "outputs": [],
   "source": [
    "true_los = df.groupby(['PATIENT_ID', 'SPELL_ID']).TRUE_LOS.sum()"
   ]
  },
  {
   "cell_type": "code",
   "execution_count": null,
   "metadata": {},
   "outputs": [],
   "source": [
    "wrong_discdate = true_los.iloc[np.where(true_los < 0)].reset_index()\n",
    "spell_ids = wrong_discdate.SPELL_ID\n",
    "\n",
    "wrong_discdate"
   ]
  },
  {
   "cell_type": "code",
   "execution_count": null,
   "metadata": {},
   "outputs": [],
   "source": [
    "for spell_id in spell_ids:\n",
    "\n",
    "    dates = df[df['SPELL_ID'] == spell_id][['ADMDATE', 'DISCDATE', 'LOS']]\n",
    "    idx = dates.index\n",
    "    if dates['DISCDATE'].nunique() > 1:\n",
    "\n",
    "        latest = dates['DISCDATE'].max()\n",
    "        new_discdates = np.where(dates['DISCDATE'] <= latest, pd.to_datetime(latest), np.nan)\n",
    "\n",
    "        df.loc[df['SPELL_ID'] == spell_id, 'DISCDATE'] = new_discdates"
   ]
  },
  {
   "cell_type": "code",
   "execution_count": null,
   "metadata": {},
   "outputs": [],
   "source": [
    "dates"
   ]
  },
  {
   "cell_type": "code",
   "execution_count": null,
   "metadata": {},
   "outputs": [],
   "source": [
    "df['DISCDATE'] = pd.to_datetime(df['DISCDATE'])"
   ]
  },
  {
   "cell_type": "code",
   "execution_count": null,
   "metadata": {},
   "outputs": [],
   "source": [
    "df['TRUE_LOS'] = df['DISCDATE'] - df['ADMDATE']\n",
    "df['TRUE_LOS'] = df.TRUE_LOS.dt.days\n",
    "\n",
    "true_los = df.groupby(['PATIENT_ID', 'SPELL_ID']).TRUE_LOS.sum()"
   ]
  },
  {
   "cell_type": "code",
   "execution_count": null,
   "metadata": {},
   "outputs": [],
   "source": [
    "wrong_discdate = true_los.iloc[np.where(true_los < 0)].reset_index()\n",
    "spell_ids = wrong_discdate.SPELL_ID\n",
    "\n",
    "wrong_discdate"
   ]
  },
  {
   "cell_type": "code",
   "execution_count": null,
   "metadata": {},
   "outputs": [],
   "source": [
    "discharge_dates = df[df['SPELL_ID'] == 'M1001789573'][['PATIENT_ID', 'ADMDATE', 'DISCDATE', 'LOS']]\n",
    "discharge_dates"
   ]
  },
  {
   "cell_type": "code",
   "execution_count": null,
   "metadata": {},
   "outputs": [],
   "source": [
    "discharge_dates = df.loc[df['SPELL_ID'] == 'M1000711976'][['PATIENT_ID', 'ADMDATE', 'DISCDATE', 'LOS']]\n",
    "# new_dates = np.where(\n",
    "#     discharge_dates['DISCDATE'] <= discharge_dates['DISCDATE'].max(),\n",
    "#     discharge_dates['DISCDATE'].max(), np.nan\n",
    "# )\n",
    "\n",
    "# discharge_dates['DISCDATE'] = new_dates\n",
    "discharge_dates"
   ]
  },
  {
   "cell_type": "code",
   "execution_count": null,
   "metadata": {},
   "outputs": [],
   "source": [
    "positive_LOS = true_los.iloc[np.where(true_los > 0)].reset_index()\n",
    "spell_ids = positive_LOS.SPELL_ID\n",
    "\n",
    "for spell_id in spell_ids:\n",
    "    length = df[df['SPELL_ID'] == spell_id][['PATIENT_ID', 'SPELL_ID', 'ADMDATE', 'DISCDATE', 'LOS']]\n",
    "    print(length)"
   ]
  },
  {
   "cell_type": "code",
   "execution_count": null,
   "metadata": {},
   "outputs": [],
   "source": [
    "idxs"
   ]
  },
  {
   "cell_type": "code",
   "execution_count": null,
   "metadata": {
    "scrolled": true
   },
   "outputs": [],
   "source": []
  }
 ],
 "metadata": {
  "kernelspec": {
   "display_name": "Python 3",
   "language": "python",
   "name": "python3"
  },
  "language_info": {
   "codemirror_mode": {
    "name": "ipython",
    "version": 3
   },
   "file_extension": ".py",
   "mimetype": "text/x-python",
   "name": "python",
   "nbconvert_exporter": "python",
   "pygments_lexer": "ipython3",
   "version": "3.6.4"
  }
 },
 "nbformat": 4,
 "nbformat_minor": 2
}
