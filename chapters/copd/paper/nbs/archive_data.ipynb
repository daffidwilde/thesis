{
 "cells": [
  {
   "cell_type": "markdown",
   "metadata": {},
   "source": [
    "# Data archiving\n",
    "\n",
    "As the data used in this paper is confidential, it cannot be published.\n",
    "\n",
    "In lieu of this, two datasets must be synthesised: one for length of stay and one for interarrival times. Each of these is done via kernel density estimation for each cluster. These datasets are archived at: https://zenodo.org/record/3908167"
   ]
  },
  {
   "cell_type": "code",
   "execution_count": 1,
   "metadata": {},
   "outputs": [],
   "source": [
    "import pandas as pd\n",
    "from scipy import stats"
   ]
  },
  {
   "cell_type": "code",
   "execution_count": 2,
   "metadata": {},
   "outputs": [],
   "source": [
    "copd = pd.read_csv(\n",
    "    \"../data/clusters/copd_clustered.csv\", parse_dates=[\"admission_date\"]\n",
    ")\n",
    "\n",
    "copd = copd.dropna(subset=[\"cluster\"])\n",
    "copd[\"cluster\"] = copd[\"cluster\"].astype(int)"
   ]
  },
  {
   "cell_type": "code",
   "execution_count": 3,
   "metadata": {},
   "outputs": [],
   "source": [
    "def synthesise_column(data, column_to_synthesise, column_name, seed=0):\n",
    "    \"\"\" Synthesise a column via KDE and a clustering. Return the artificial dataset. \"\"\"\n",
    "\n",
    "    dfs = []\n",
    "    for cluster, values in data.groupby(\"cluster\")[column_to_synthesise]:\n",
    "\n",
    "        df = pd.DataFrame()\n",
    "        kernel = stats.gaussian_kde(values)\n",
    "\n",
    "        df[column_name] = kernel.resample(seed=seed)[0]\n",
    "        df[\"cluster\"] = cluster\n",
    "\n",
    "        dfs.append(df)\n",
    "\n",
    "    synth = pd.concat(dfs, ignore_index=True)\n",
    "    return synth"
   ]
  },
  {
   "cell_type": "markdown",
   "metadata": {},
   "source": [
    "## Length of stay"
   ]
  },
  {
   "cell_type": "code",
   "execution_count": 4,
   "metadata": {
    "scrolled": true
   },
   "outputs": [],
   "source": [
    "synth_los = synthesise_column(copd, \"true_los\", \"los\")"
   ]
  },
  {
   "cell_type": "markdown",
   "metadata": {},
   "source": [
    "As we can see here, there are negative lengths of stay.\n",
    "\n",
    "Some negative lengths are okay (as in the real dataset) but we'll trim a portion of the bottom from the final dataset."
   ]
  },
  {
   "cell_type": "code",
   "execution_count": 5,
   "metadata": {},
   "outputs": [
    {
     "data": {
      "text/plain": [
       "count    10877.000000\n",
       "mean         7.620979\n",
       "std         12.457723\n",
       "min         -2.523948\n",
       "25%          1.477098\n",
       "50%          4.231919\n",
       "75%          8.781526\n",
       "max        243.224711\n",
       "Name: los, dtype: float64"
      ]
     },
     "execution_count": 5,
     "metadata": {},
     "output_type": "execute_result"
    }
   ],
   "source": [
    "synth_los[\"los\"].describe()"
   ]
  },
  {
   "cell_type": "code",
   "execution_count": 6,
   "metadata": {},
   "outputs": [
    {
     "data": {
      "text/html": [
       "<div>\n",
       "<style scoped>\n",
       "    .dataframe tbody tr th:only-of-type {\n",
       "        vertical-align: middle;\n",
       "    }\n",
       "\n",
       "    .dataframe tbody tr th {\n",
       "        vertical-align: top;\n",
       "    }\n",
       "\n",
       "    .dataframe thead th {\n",
       "        text-align: right;\n",
       "    }\n",
       "</style>\n",
       "<table border=\"1\" class=\"dataframe\">\n",
       "  <thead>\n",
       "    <tr style=\"text-align: right;\">\n",
       "      <th></th>\n",
       "      <th>true_los</th>\n",
       "      <th>los</th>\n",
       "    </tr>\n",
       "  </thead>\n",
       "  <tbody>\n",
       "    <tr>\n",
       "      <th>count</th>\n",
       "      <td>10877.000000</td>\n",
       "      <td>10224.000000</td>\n",
       "    </tr>\n",
       "    <tr>\n",
       "      <th>mean</th>\n",
       "      <td>7.702120</td>\n",
       "      <td>8.138036</td>\n",
       "    </tr>\n",
       "    <tr>\n",
       "      <th>std</th>\n",
       "      <td>11.861053</td>\n",
       "      <td>12.674558</td>\n",
       "    </tr>\n",
       "    <tr>\n",
       "      <th>min</th>\n",
       "      <td>-0.020833</td>\n",
       "      <td>-0.029627</td>\n",
       "    </tr>\n",
       "    <tr>\n",
       "      <th>25%</th>\n",
       "      <td>1.491667</td>\n",
       "      <td>1.913583</td>\n",
       "    </tr>\n",
       "    <tr>\n",
       "      <th>50%</th>\n",
       "      <td>4.195139</td>\n",
       "      <td>4.660670</td>\n",
       "    </tr>\n",
       "    <tr>\n",
       "      <th>75%</th>\n",
       "      <td>8.930556</td>\n",
       "      <td>9.250386</td>\n",
       "    </tr>\n",
       "    <tr>\n",
       "      <th>max</th>\n",
       "      <td>224.927778</td>\n",
       "      <td>243.224711</td>\n",
       "    </tr>\n",
       "  </tbody>\n",
       "</table>\n",
       "</div>"
      ],
      "text/plain": [
       "           true_los           los\n",
       "count  10877.000000  10224.000000\n",
       "mean       7.702120      8.138036\n",
       "std       11.861053     12.674558\n",
       "min       -0.020833     -0.029627\n",
       "25%        1.491667      1.913583\n",
       "50%        4.195139      4.660670\n",
       "75%        8.930556      9.250386\n",
       "max      224.927778    243.224711"
      ]
     },
     "execution_count": 6,
     "metadata": {},
     "output_type": "execute_result"
    }
   ],
   "source": [
    "trimmed_los = synth_los[synth_los[\"los\"] >= synth_los[\"los\"].quantile(0.06)]\n",
    "pd.concat((copd[\"true_los\"].describe(), trimmed_los[\"los\"].describe()), axis=1)"
   ]
  },
  {
   "cell_type": "code",
   "execution_count": 7,
   "metadata": {},
   "outputs": [],
   "source": [
    "trimmed_los.to_csv(\"../data/synthetic/los.csv\", index=False)"
   ]
  },
  {
   "cell_type": "markdown",
   "metadata": {},
   "source": [
    "## Interarrival times"
   ]
  },
  {
   "cell_type": "code",
   "execution_count": 8,
   "metadata": {},
   "outputs": [],
   "source": [
    "sorted_arrivals = copd.set_index(\"admission_date\").sort_index()\n",
    "sorted_clusters = sorted_arrivals[\"cluster\"]\n",
    "\n",
    "sorted_diffs = (\n",
    "    sorted_arrivals.index.to_series()\n",
    "    .diff()\n",
    "    .dt.total_seconds()\n",
    "    .div(24 * 60 * 60)\n",
    "    .fillna(0)\n",
    ")\n",
    "\n",
    "diffs = pd.concat((sorted_diffs, sorted_clusters), axis=1)\n",
    "diffs.columns = [\"true_diff\", \"cluster\"]"
   ]
  },
  {
   "cell_type": "code",
   "execution_count": 9,
   "metadata": {},
   "outputs": [],
   "source": [
    "synth_diffs = synthesise_column(diffs, \"true_diff\", \"diff\")"
   ]
  },
  {
   "cell_type": "markdown",
   "metadata": {},
   "source": [
    "Again, there are some negative values here. This isn't acceptable so we'll just trim them away."
   ]
  },
  {
   "cell_type": "code",
   "execution_count": 10,
   "metadata": {},
   "outputs": [
    {
     "data": {
      "text/plain": [
       "count    10877.000000\n",
       "mean         0.274842\n",
       "std          0.530319\n",
       "min         -0.621404\n",
       "25%          0.055015\n",
       "50%          0.161872\n",
       "75%          0.394376\n",
       "max         25.452923\n",
       "Name: diff, dtype: float64"
      ]
     },
     "execution_count": 10,
     "metadata": {},
     "output_type": "execute_result"
    }
   ],
   "source": [
    "synth_diffs[\"diff\"].describe()"
   ]
  },
  {
   "cell_type": "code",
   "execution_count": 11,
   "metadata": {},
   "outputs": [
    {
     "data": {
      "text/html": [
       "<div>\n",
       "<style scoped>\n",
       "    .dataframe tbody tr th:only-of-type {\n",
       "        vertical-align: middle;\n",
       "    }\n",
       "\n",
       "    .dataframe tbody tr th {\n",
       "        vertical-align: top;\n",
       "    }\n",
       "\n",
       "    .dataframe thead th {\n",
       "        text-align: right;\n",
       "    }\n",
       "</style>\n",
       "<table border=\"1\" class=\"dataframe\">\n",
       "  <thead>\n",
       "    <tr style=\"text-align: right;\">\n",
       "      <th></th>\n",
       "      <th>true_diff</th>\n",
       "      <th>diff</th>\n",
       "    </tr>\n",
       "  </thead>\n",
       "  <tbody>\n",
       "    <tr>\n",
       "      <th>count</th>\n",
       "      <td>10877.000000</td>\n",
       "      <td>9640.000000</td>\n",
       "    </tr>\n",
       "    <tr>\n",
       "      <th>mean</th>\n",
       "      <td>0.273812</td>\n",
       "      <td>0.318118</td>\n",
       "    </tr>\n",
       "    <tr>\n",
       "      <th>std</th>\n",
       "      <td>0.399713</td>\n",
       "      <td>0.547828</td>\n",
       "    </tr>\n",
       "    <tr>\n",
       "      <th>min</th>\n",
       "      <td>0.000000</td>\n",
       "      <td>0.000056</td>\n",
       "    </tr>\n",
       "    <tr>\n",
       "      <th>25%</th>\n",
       "      <td>0.053472</td>\n",
       "      <td>0.086876</td>\n",
       "    </tr>\n",
       "    <tr>\n",
       "      <th>50%</th>\n",
       "      <td>0.149306</td>\n",
       "      <td>0.195984</td>\n",
       "    </tr>\n",
       "    <tr>\n",
       "      <th>75%</th>\n",
       "      <td>0.395833</td>\n",
       "      <td>0.440737</td>\n",
       "    </tr>\n",
       "    <tr>\n",
       "      <th>max</th>\n",
       "      <td>25.152778</td>\n",
       "      <td>25.452923</td>\n",
       "    </tr>\n",
       "  </tbody>\n",
       "</table>\n",
       "</div>"
      ],
      "text/plain": [
       "          true_diff         diff\n",
       "count  10877.000000  9640.000000\n",
       "mean       0.273812     0.318118\n",
       "std        0.399713     0.547828\n",
       "min        0.000000     0.000056\n",
       "25%        0.053472     0.086876\n",
       "50%        0.149306     0.195984\n",
       "75%        0.395833     0.440737\n",
       "max       25.152778    25.452923"
      ]
     },
     "execution_count": 11,
     "metadata": {},
     "output_type": "execute_result"
    }
   ],
   "source": [
    "trimmed_diffs = synth_diffs[synth_diffs[\"diff\"] >= 0]\n",
    "pd.concat((diffs[\"true_diff\"].describe(), trimmed_diffs[\"diff\"].describe()), axis=1)"
   ]
  },
  {
   "cell_type": "code",
   "execution_count": 12,
   "metadata": {},
   "outputs": [],
   "source": [
    "trimmed_diffs.to_csv(\"../data/synthetic/diffs.csv\", index=False)"
   ]
  },
  {
   "cell_type": "code",
   "execution_count": null,
   "metadata": {},
   "outputs": [],
   "source": []
  }
 ],
 "metadata": {
  "kernelspec": {
   "display_name": "copd-paper",
   "language": "python",
   "name": "copd-paper"
  },
  "language_info": {
   "codemirror_mode": {
    "name": "ipython",
    "version": 3
   },
   "file_extension": ".py",
   "mimetype": "text/x-python",
   "name": "python",
   "nbconvert_exporter": "python",
   "pygments_lexer": "ipython3",
   "version": "3.7.6"
  }
 },
 "nbformat": 4,
 "nbformat_minor": 4
}
